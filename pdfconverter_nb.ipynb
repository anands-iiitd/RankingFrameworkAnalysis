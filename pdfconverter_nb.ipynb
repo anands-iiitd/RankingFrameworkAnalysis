{
 "cells": [
  {
   "cell_type": "code",
   "execution_count": 1,
   "metadata": {},
   "outputs": [],
   "source": [
    "import tabula as tb\n",
    "import pandas as pd\n",
    "import os\n",
    "from tabula.io import read_pdf"
   ]
  },
  {
   "cell_type": "code",
   "execution_count": 8,
   "metadata": {},
   "outputs": [
    {
     "name": "stdout",
     "output_type": "stream",
     "text": [
      "[2024, 2023, 2022, 2021, 2020, 2019]\n"
     ]
    }
   ],
   "source": [
    "curr_year = list(range(2024,2018,-1))\n",
    "print(curr_year)"
   ]
  },
  {
   "cell_type": "code",
   "execution_count": 2,
   "metadata": {},
   "outputs": [],
   "source": [
    "curr_year = 2024\n",
    "pdf_folder_path = f'../nirf_csv_top100/{curr_year}/pdf'\n",
    "csv_folder_path = f'../nirf_csv_top100/{curr_year}/csv_tables'\n",
    "os.makedirs(csv_folder_path,exist_ok=True)\n"
   ]
  },
  {
   "cell_type": "code",
   "execution_count": 3,
   "metadata": {},
   "outputs": [
    {
     "name": "stdout",
     "output_type": "stream",
     "text": [
      "../nirf_csv_top100/2024/pdf\n",
      "['100_IR-E-C-1297.pdf', '10_IR-E-U-0701.pdf', '11_IR-E-U-0490.pdf', '12_IR-E-U-0575.pdf', '13_IR-E-U-0473.pdf', '14_IR-E-U-0439.pdf', '15_IR-E-U-0205.pdf', '16_IR-E-U-0273.pdf', '17_IR-E-U-0237.pdf', '18_IR-E-U-0139.pdf', '19_IR-E-U-0357.pdf', '1_IR-E-U-0456.pdf', '20_IR-E-U-0391.pdf', '21_IR-E-U-0025.pdf', '22_IR-E-U-0378.pdf', '23_IR-E-U-0436.pdf', '24_IR-E-U-0108.pdf', '25_IR-E-U-0263.pdf', '26_IR-E-U-0363.pdf', '27_IR-E-U-0098.pdf', '28_IR-E-U-0395.pdf', '29_IR-E-I-1480.pdf', '2_IR-E-I-1074.pdf', '30_IR-E-U-0497.pdf', '31_IR-E-U-0184.pdf', '32_IR-E-U-0747.pdf', '33_IR-E-U-0496.pdf', '34_IR-E-U-0064.pdf', '35_IR-E-U-0020.pdf', '36_IR-E-U-0458.pdf', '37_IR-E-U-0356.pdf', '38_IR-E-U-0476.pdf', '39_IR-E-U-0334.pdf', '3_IR-E-U-0306.pdf', '40_IR-E-U-0055.pdf', '41_IR-E-U-0308.pdf', '42_IR-E-U-0564.pdf', '43_IR-E-U-0410.pdf', '44_IR-E-U-0577.pdf', '45_IR-E-U-0622.pdf', '46_IR-E-C-16604.pdf', '47_IR-E-U-0014.pdf', '48_IR-E-U-0202.pdf', '49_IR-E-U-0584.pdf', '4_IR-E-I-1075.pdf', '50_IR-E-U-0379.pdf', '51_IR-E-U-0255.pdf', '52_IR-E-U-0555.pdf', '53_IR-E-I-1441.pdf', '54_IR-E-U-0355.pdf', '55_IR-E-U-0072.pdf', '56_IR-E-C-7252.pdf', '57_IR-E-C-6379.pdf', '58_IR-E-U-0374.pdf', '59_IR-E-U-0149.pdf', '5_IR-E-U-0573.pdf', '60_IR-E-U-0530.pdf', '61_IR-E-U-0844.pdf', '62_IR-E-U-0906.pdf', '63_IR-E-U-0297.pdf', '64_IR-E-U-0749.pdf', '64_IR-E-U-0878.pdf', '66_IR-E-U-0474.pdf', '67_IR-E-C-37013.pdf', '68_IR-E-U-0619.pdf', '69_IR-E-U-0249.pdf', '6_IR-E-U-0560.pdf', '70_IR-E-U-0042.pdf', '71_IR-E-U-0092.pdf', '72_IR-E-U-0284.pdf', '73_IR-E-U-0946.pdf', '74_IR-E-U-0221.pdf', '75_IR-E-C-1331.pdf', '76_IR-E-U-0384.pdf', '77_IR-E-C-41593.pdf', '78_IR-E-U-0389.pdf', '79_IR-E-U-0197.pdf', '7_IR-E-U-0053.pdf', '80_IR-E-U-0535.pdf', '81_IR-E-U-0172.pdf', '82_IR-E-U-0493.pdf', '83_IR-E-C-36995.pdf', '84_IR-E-U-0739.pdf', '85_IR-E-U-0105.pdf', '86_IR-E-U-0489.pdf', '87_IR-E-U-0516.pdf', '88_IR-E-U-0017.pdf', '89_IR-E-U-0099.pdf', '8_IR-E-U-0013.pdf', '90_IR-E-C-24004.pdf', '91_IR-E-U-0043.pdf', '92_IR-E-U-0190.pdf', '93_IR-E-U-0217.pdf', '94_IR-E-U-0373.pdf', '95_IR-E-U-0223.pdf', '96_IR-E-C-30045.pdf', '97_IR-E-U-0621.pdf', '98_IR-E-C-19754.pdf', '99_IR-E-C-1269.pdf', '9_IR-E-U-0467.pdf']\n",
      "['Sanctioned (Approved) Intake', 'Total Actual Student Strength (Program(s) Offered by your Institution)', 'UG [4 Years Program(s)]: Placement & Higher Studies for previous 3 years', 'UG [5 Years Program(s)]: Placement & Higher Studies for previous 3 years', 'PG [2 Years Program(s)]: Placement & Higher Studies for previous 3 years', 'PG [3 Years Program(s)]: Placement & Higher Studies for previous 3 years', 'Ph.D Student Details', 'Financial Resources: Utilised Amount for the Capital Expenditure for previous 3 years', 'Financial Resources: Utilised Amount for the Operational Expenditure for previous 3 years', 'Sponsored Research Details', 'Consultancy Project Details', 'PCS Facilities: Facilities of Physically Challenged Students', 'Faculty Details']\n"
     ]
    }
   ],
   "source": [
    "print(pdf_folder_path)\n",
    "file_list = os.listdir(pdf_folder_path)\n",
    "print(file_list)\n",
    "\n",
    "table_title_list = ['Sanctioned (Approved) Intake', \n",
    "                    'Total Actual Student Strength (Program(s) Offered by your Institution)',  \n",
    "                    'UG [4 Years Program(s)]: Placement & Higher Studies for previous 3 years', \n",
    "                    'UG [5 Years Program(s)]: Placement & Higher Studies for previous 3 years', \n",
    "                    'PG [2 Years Program(s)]: Placement & Higher Studies for previous 3 years', \n",
    "                    'PG [3 Years Program(s)]: Placement & Higher Studies for previous 3 years', \n",
    "                    'Ph.D Student Details',\n",
    "                    'Financial Resources: Utilised Amount for the Capital Expenditure for previous 3 years',\n",
    "                    'Financial Resources: Utilised Amount for the Operational Expenditure for previous 3 years', \n",
    "                    'Sponsored Research Details', \n",
    "                    'Consultancy Project Details', \n",
    "                    'PCS Facilities: Facilities of Physically Challenged Students', \n",
    "                    'Faculty Details']\n",
    "\n",
    "\n",
    "print(table_title_list)"
   ]
  },
  {
   "cell_type": "code",
   "execution_count": 4,
   "metadata": {},
   "outputs": [
    {
     "name": "stdout",
     "output_type": "stream",
     "text": [
      "<class 'pandas.core.frame.DataFrame'>\n",
      "RangeIndex: 2 entries, 0 to 1\n",
      "Data columns (total 7 columns):\n",
      " #   Column         Non-Null Count  Dtype \n",
      "---  ------         --------------  ----- \n",
      " 0   Academic Year  2 non-null      object\n",
      " 1   2022-23        2 non-null      int64 \n",
      " 2   2021-22        2 non-null      int64 \n",
      " 3   2020-21        2 non-null      object\n",
      " 4   2019-20        2 non-null      object\n",
      " 5   2018-19        2 non-null      object\n",
      " 6   2017-18        2 non-null      object\n",
      "dtypes: int64(2), object(5)\n",
      "memory usage: 240.0+ bytes\n"
     ]
    },
    {
     "ename": "KeyboardInterrupt",
     "evalue": "",
     "output_type": "error",
     "traceback": [
      "\u001b[1;31m---------------------------------------------------------------------------\u001b[0m",
      "\u001b[1;31mKeyboardInterrupt\u001b[0m                         Traceback (most recent call last)",
      "\u001b[1;32m~\\AppData\\Local\\Temp\\ipykernel_15436\\1155044503.py\u001b[0m in \u001b[0;36m<module>\u001b[1;34m\u001b[0m\n\u001b[0;32m      6\u001b[0m     \u001b[1;31m# os.makedirs(csv_folder_path, exist_ok=True)\u001b[0m\u001b[1;33m\u001b[0m\u001b[1;33m\u001b[0m\u001b[1;33m\u001b[0m\u001b[0m\n\u001b[0;32m      7\u001b[0m \u001b[1;33m\u001b[0m\u001b[0m\n\u001b[1;32m----> 8\u001b[1;33m     \u001b[0mdf_list\u001b[0m \u001b[1;33m=\u001b[0m \u001b[0mtb\u001b[0m\u001b[1;33m.\u001b[0m\u001b[0mread_pdf\u001b[0m\u001b[1;33m(\u001b[0m\u001b[0mfile\u001b[0m\u001b[1;33m,\u001b[0m \u001b[0mpages\u001b[0m\u001b[1;33m=\u001b[0m\u001b[1;34m'all'\u001b[0m\u001b[1;33m)\u001b[0m\u001b[1;33m\u001b[0m\u001b[1;33m\u001b[0m\u001b[0m\n\u001b[0m\u001b[0;32m      9\u001b[0m     \u001b[0mcurr_df\u001b[0m \u001b[1;33m=\u001b[0m \u001b[0mdf_list\u001b[0m\u001b[1;33m[\u001b[0m\u001b[1;36m0\u001b[0m\u001b[1;33m]\u001b[0m\u001b[1;33m\u001b[0m\u001b[1;33m\u001b[0m\u001b[0m\n\u001b[0;32m     10\u001b[0m     \u001b[1;31m# for i, df in enumerate(df_list):\u001b[0m\u001b[1;33m\u001b[0m\u001b[1;33m\u001b[0m\u001b[1;33m\u001b[0m\u001b[0m\n",
      "\u001b[1;32mc:\\Users\\saket\\miniconda3\\envs\\pdf_nlp_env\\lib\\site-packages\\tabula\\io.py\u001b[0m in \u001b[0;36mread_pdf\u001b[1;34m(input_path, output_format, encoding, java_options, pandas_options, multiple_tables, user_agent, use_raw_url, pages, guess, area, relative_area, lattice, stream, password, silent, columns, relative_columns, format, batch, output_path, options)\u001b[0m\n\u001b[0;32m    424\u001b[0m \u001b[1;33m\u001b[0m\u001b[0m\n\u001b[0;32m    425\u001b[0m     \u001b[1;32mtry\u001b[0m\u001b[1;33m:\u001b[0m\u001b[1;33m\u001b[0m\u001b[1;33m\u001b[0m\u001b[0m\n\u001b[1;32m--> 426\u001b[1;33m         \u001b[0moutput\u001b[0m \u001b[1;33m=\u001b[0m \u001b[0m_run\u001b[0m\u001b[1;33m(\u001b[0m\u001b[0mjava_options\u001b[0m\u001b[1;33m,\u001b[0m \u001b[0mtabula_options\u001b[0m\u001b[1;33m,\u001b[0m \u001b[0mpath\u001b[0m\u001b[1;33m,\u001b[0m \u001b[0mencoding\u001b[0m\u001b[1;33m)\u001b[0m\u001b[1;33m\u001b[0m\u001b[1;33m\u001b[0m\u001b[0m\n\u001b[0m\u001b[0;32m    427\u001b[0m     \u001b[1;32mfinally\u001b[0m\u001b[1;33m:\u001b[0m\u001b[1;33m\u001b[0m\u001b[1;33m\u001b[0m\u001b[0m\n\u001b[0;32m    428\u001b[0m         \u001b[1;32mif\u001b[0m \u001b[0mtemporary\u001b[0m\u001b[1;33m:\u001b[0m\u001b[1;33m\u001b[0m\u001b[1;33m\u001b[0m\u001b[0m\n",
      "\u001b[1;32mc:\\Users\\saket\\miniconda3\\envs\\pdf_nlp_env\\lib\\site-packages\\tabula\\io.py\u001b[0m in \u001b[0;36m_run\u001b[1;34m(java_options, options, path, encoding)\u001b[0m\n\u001b[0;32m     90\u001b[0m             \u001b[0mstderr\u001b[0m\u001b[1;33m=\u001b[0m\u001b[0msubprocess\u001b[0m\u001b[1;33m.\u001b[0m\u001b[0mPIPE\u001b[0m\u001b[1;33m,\u001b[0m\u001b[1;33m\u001b[0m\u001b[1;33m\u001b[0m\u001b[0m\n\u001b[0;32m     91\u001b[0m             \u001b[0mstdin\u001b[0m\u001b[1;33m=\u001b[0m\u001b[0msubprocess\u001b[0m\u001b[1;33m.\u001b[0m\u001b[0mDEVNULL\u001b[0m\u001b[1;33m,\u001b[0m\u001b[1;33m\u001b[0m\u001b[1;33m\u001b[0m\u001b[0m\n\u001b[1;32m---> 92\u001b[1;33m             \u001b[0mcheck\u001b[0m\u001b[1;33m=\u001b[0m\u001b[1;32mTrue\u001b[0m\u001b[1;33m,\u001b[0m\u001b[1;33m\u001b[0m\u001b[1;33m\u001b[0m\u001b[0m\n\u001b[0m\u001b[0;32m     93\u001b[0m         )\n\u001b[0;32m     94\u001b[0m         \u001b[1;32mif\u001b[0m \u001b[0mresult\u001b[0m\u001b[1;33m.\u001b[0m\u001b[0mstderr\u001b[0m\u001b[1;33m:\u001b[0m\u001b[1;33m\u001b[0m\u001b[1;33m\u001b[0m\u001b[0m\n",
      "\u001b[1;32mc:\\Users\\saket\\miniconda3\\envs\\pdf_nlp_env\\lib\\subprocess.py\u001b[0m in \u001b[0;36mrun\u001b[1;34m(input, capture_output, timeout, check, *popenargs, **kwargs)\u001b[0m\n\u001b[0;32m    488\u001b[0m     \u001b[1;32mwith\u001b[0m \u001b[0mPopen\u001b[0m\u001b[1;33m(\u001b[0m\u001b[1;33m*\u001b[0m\u001b[0mpopenargs\u001b[0m\u001b[1;33m,\u001b[0m \u001b[1;33m**\u001b[0m\u001b[0mkwargs\u001b[0m\u001b[1;33m)\u001b[0m \u001b[1;32mas\u001b[0m \u001b[0mprocess\u001b[0m\u001b[1;33m:\u001b[0m\u001b[1;33m\u001b[0m\u001b[1;33m\u001b[0m\u001b[0m\n\u001b[0;32m    489\u001b[0m         \u001b[1;32mtry\u001b[0m\u001b[1;33m:\u001b[0m\u001b[1;33m\u001b[0m\u001b[1;33m\u001b[0m\u001b[0m\n\u001b[1;32m--> 490\u001b[1;33m             \u001b[0mstdout\u001b[0m\u001b[1;33m,\u001b[0m \u001b[0mstderr\u001b[0m \u001b[1;33m=\u001b[0m \u001b[0mprocess\u001b[0m\u001b[1;33m.\u001b[0m\u001b[0mcommunicate\u001b[0m\u001b[1;33m(\u001b[0m\u001b[0minput\u001b[0m\u001b[1;33m,\u001b[0m \u001b[0mtimeout\u001b[0m\u001b[1;33m=\u001b[0m\u001b[0mtimeout\u001b[0m\u001b[1;33m)\u001b[0m\u001b[1;33m\u001b[0m\u001b[1;33m\u001b[0m\u001b[0m\n\u001b[0m\u001b[0;32m    491\u001b[0m         \u001b[1;32mexcept\u001b[0m \u001b[0mTimeoutExpired\u001b[0m \u001b[1;32mas\u001b[0m \u001b[0mexc\u001b[0m\u001b[1;33m:\u001b[0m\u001b[1;33m\u001b[0m\u001b[1;33m\u001b[0m\u001b[0m\n\u001b[0;32m    492\u001b[0m             \u001b[0mprocess\u001b[0m\u001b[1;33m.\u001b[0m\u001b[0mkill\u001b[0m\u001b[1;33m(\u001b[0m\u001b[1;33m)\u001b[0m\u001b[1;33m\u001b[0m\u001b[1;33m\u001b[0m\u001b[0m\n",
      "\u001b[1;32mc:\\Users\\saket\\miniconda3\\envs\\pdf_nlp_env\\lib\\subprocess.py\u001b[0m in \u001b[0;36mcommunicate\u001b[1;34m(self, input, timeout)\u001b[0m\n\u001b[0;32m    962\u001b[0m \u001b[1;33m\u001b[0m\u001b[0m\n\u001b[0;32m    963\u001b[0m             \u001b[1;32mtry\u001b[0m\u001b[1;33m:\u001b[0m\u001b[1;33m\u001b[0m\u001b[1;33m\u001b[0m\u001b[0m\n\u001b[1;32m--> 964\u001b[1;33m                 \u001b[0mstdout\u001b[0m\u001b[1;33m,\u001b[0m \u001b[0mstderr\u001b[0m \u001b[1;33m=\u001b[0m \u001b[0mself\u001b[0m\u001b[1;33m.\u001b[0m\u001b[0m_communicate\u001b[0m\u001b[1;33m(\u001b[0m\u001b[0minput\u001b[0m\u001b[1;33m,\u001b[0m \u001b[0mendtime\u001b[0m\u001b[1;33m,\u001b[0m \u001b[0mtimeout\u001b[0m\u001b[1;33m)\u001b[0m\u001b[1;33m\u001b[0m\u001b[1;33m\u001b[0m\u001b[0m\n\u001b[0m\u001b[0;32m    965\u001b[0m             \u001b[1;32mexcept\u001b[0m \u001b[0mKeyboardInterrupt\u001b[0m\u001b[1;33m:\u001b[0m\u001b[1;33m\u001b[0m\u001b[1;33m\u001b[0m\u001b[0m\n\u001b[0;32m    966\u001b[0m                 \u001b[1;31m# https://bugs.python.org/issue25942\u001b[0m\u001b[1;33m\u001b[0m\u001b[1;33m\u001b[0m\u001b[1;33m\u001b[0m\u001b[0m\n",
      "\u001b[1;32mc:\\Users\\saket\\miniconda3\\envs\\pdf_nlp_env\\lib\\subprocess.py\u001b[0m in \u001b[0;36m_communicate\u001b[1;34m(self, input, endtime, orig_timeout)\u001b[0m\n\u001b[0;32m   1294\u001b[0m             \u001b[1;31m# calls communicate again.\u001b[0m\u001b[1;33m\u001b[0m\u001b[1;33m\u001b[0m\u001b[1;33m\u001b[0m\u001b[0m\n\u001b[0;32m   1295\u001b[0m             \u001b[1;32mif\u001b[0m \u001b[0mself\u001b[0m\u001b[1;33m.\u001b[0m\u001b[0mstdout\u001b[0m \u001b[1;32mis\u001b[0m \u001b[1;32mnot\u001b[0m \u001b[1;32mNone\u001b[0m\u001b[1;33m:\u001b[0m\u001b[1;33m\u001b[0m\u001b[1;33m\u001b[0m\u001b[0m\n\u001b[1;32m-> 1296\u001b[1;33m                 \u001b[0mself\u001b[0m\u001b[1;33m.\u001b[0m\u001b[0mstdout_thread\u001b[0m\u001b[1;33m.\u001b[0m\u001b[0mjoin\u001b[0m\u001b[1;33m(\u001b[0m\u001b[0mself\u001b[0m\u001b[1;33m.\u001b[0m\u001b[0m_remaining_time\u001b[0m\u001b[1;33m(\u001b[0m\u001b[0mendtime\u001b[0m\u001b[1;33m)\u001b[0m\u001b[1;33m)\u001b[0m\u001b[1;33m\u001b[0m\u001b[1;33m\u001b[0m\u001b[0m\n\u001b[0m\u001b[0;32m   1297\u001b[0m                 \u001b[1;32mif\u001b[0m \u001b[0mself\u001b[0m\u001b[1;33m.\u001b[0m\u001b[0mstdout_thread\u001b[0m\u001b[1;33m.\u001b[0m\u001b[0mis_alive\u001b[0m\u001b[1;33m(\u001b[0m\u001b[1;33m)\u001b[0m\u001b[1;33m:\u001b[0m\u001b[1;33m\u001b[0m\u001b[1;33m\u001b[0m\u001b[0m\n\u001b[0;32m   1298\u001b[0m                     \u001b[1;32mraise\u001b[0m \u001b[0mTimeoutExpired\u001b[0m\u001b[1;33m(\u001b[0m\u001b[0mself\u001b[0m\u001b[1;33m.\u001b[0m\u001b[0margs\u001b[0m\u001b[1;33m,\u001b[0m \u001b[0morig_timeout\u001b[0m\u001b[1;33m)\u001b[0m\u001b[1;33m\u001b[0m\u001b[1;33m\u001b[0m\u001b[0m\n",
      "\u001b[1;32mc:\\Users\\saket\\miniconda3\\envs\\pdf_nlp_env\\lib\\threading.py\u001b[0m in \u001b[0;36mjoin\u001b[1;34m(self, timeout)\u001b[0m\n\u001b[0;32m   1042\u001b[0m \u001b[1;33m\u001b[0m\u001b[0m\n\u001b[0;32m   1043\u001b[0m         \u001b[1;32mif\u001b[0m \u001b[0mtimeout\u001b[0m \u001b[1;32mis\u001b[0m \u001b[1;32mNone\u001b[0m\u001b[1;33m:\u001b[0m\u001b[1;33m\u001b[0m\u001b[1;33m\u001b[0m\u001b[0m\n\u001b[1;32m-> 1044\u001b[1;33m             \u001b[0mself\u001b[0m\u001b[1;33m.\u001b[0m\u001b[0m_wait_for_tstate_lock\u001b[0m\u001b[1;33m(\u001b[0m\u001b[1;33m)\u001b[0m\u001b[1;33m\u001b[0m\u001b[1;33m\u001b[0m\u001b[0m\n\u001b[0m\u001b[0;32m   1045\u001b[0m         \u001b[1;32melse\u001b[0m\u001b[1;33m:\u001b[0m\u001b[1;33m\u001b[0m\u001b[1;33m\u001b[0m\u001b[0m\n\u001b[0;32m   1046\u001b[0m             \u001b[1;31m# the behavior of a negative timeout isn't documented, but\u001b[0m\u001b[1;33m\u001b[0m\u001b[1;33m\u001b[0m\u001b[1;33m\u001b[0m\u001b[0m\n",
      "\u001b[1;32mc:\\Users\\saket\\miniconda3\\envs\\pdf_nlp_env\\lib\\threading.py\u001b[0m in \u001b[0;36m_wait_for_tstate_lock\u001b[1;34m(self, block, timeout)\u001b[0m\n\u001b[0;32m   1058\u001b[0m         \u001b[1;32mif\u001b[0m \u001b[0mlock\u001b[0m \u001b[1;32mis\u001b[0m \u001b[1;32mNone\u001b[0m\u001b[1;33m:\u001b[0m  \u001b[1;31m# already determined that the C code is done\u001b[0m\u001b[1;33m\u001b[0m\u001b[1;33m\u001b[0m\u001b[0m\n\u001b[0;32m   1059\u001b[0m             \u001b[1;32massert\u001b[0m \u001b[0mself\u001b[0m\u001b[1;33m.\u001b[0m\u001b[0m_is_stopped\u001b[0m\u001b[1;33m\u001b[0m\u001b[1;33m\u001b[0m\u001b[0m\n\u001b[1;32m-> 1060\u001b[1;33m         \u001b[1;32melif\u001b[0m \u001b[0mlock\u001b[0m\u001b[1;33m.\u001b[0m\u001b[0macquire\u001b[0m\u001b[1;33m(\u001b[0m\u001b[0mblock\u001b[0m\u001b[1;33m,\u001b[0m \u001b[0mtimeout\u001b[0m\u001b[1;33m)\u001b[0m\u001b[1;33m:\u001b[0m\u001b[1;33m\u001b[0m\u001b[1;33m\u001b[0m\u001b[0m\n\u001b[0m\u001b[0;32m   1061\u001b[0m             \u001b[0mlock\u001b[0m\u001b[1;33m.\u001b[0m\u001b[0mrelease\u001b[0m\u001b[1;33m(\u001b[0m\u001b[1;33m)\u001b[0m\u001b[1;33m\u001b[0m\u001b[1;33m\u001b[0m\u001b[0m\n\u001b[0;32m   1062\u001b[0m             \u001b[0mself\u001b[0m\u001b[1;33m.\u001b[0m\u001b[0m_stop\u001b[0m\u001b[1;33m(\u001b[0m\u001b[1;33m)\u001b[0m\u001b[1;33m\u001b[0m\u001b[1;33m\u001b[0m\u001b[0m\n",
      "\u001b[1;31mKeyboardInterrupt\u001b[0m: "
     ]
    }
   ],
   "source": [
    "for filename in os.listdir(pdf_folder_path):\n",
    "    # csv_file_path = os.path.join(csv_folder_path,filename.split('.')[0] + '.csv')\n",
    "    file = os.path.join(pdf_folder_path, filename)\n",
    "\n",
    "   \n",
    "    # os.makedirs(csv_folder_path, exist_ok=True)\n",
    "\n",
    "    df_list = tb.read_pdf(file, pages='all')\n",
    "    curr_df = df_list[0]\n",
    "    # for i, df in enumerate(df_list):\n",
    "\n",
    "    #     df.to_csv(csv_file_path,mode='a' ,index=False)  # Save DataFrame as CSV\n",
    "        \n",
    "    #     blank_row = pd.DataFrame([[]])\n",
    "    #     blank_row.to_csv(csv_file_path, mode='a', index=False, header=False)\n",
    "    #     print(f\"Converted page {i + 1} of {filename} to {csv_file_path}\")"
   ]
  },
  {
   "cell_type": "code",
   "execution_count": 62,
   "metadata": {},
   "outputs": [
    {
     "name": "stdout",
     "output_type": "stream",
     "text": [
      "Table 1: Sanctioned (Approved) Intake\n",
      "Index(['Academic Year', '2021-22', '2020-21', '2019-20', '2018-19', '2017-18',\n",
      "       '2016-17'],\n",
      "      dtype='object')\n",
      "Table 2: Total Actual Student Strength (Program(s) Offered by your Institution)\n",
      "Index(['(All programs\\rof all years)', 'No. of Male\\rStudents',\n",
      "       'No. of Female\\rStudents', 'Total Students',\n",
      "       'Within State\\r(Including male\\r& female)',\n",
      "       'Outside State\\r(Including male\\r& female)',\n",
      "       'Outside\\rCountry\\r(Including male\\r& female)',\n",
      "       'Economically\\rBackward\\r(Including male\\r& female)',\n",
      "       'Socially\\rChallenged\\r(SC+ST+OBC\\rIncluding male\\r& female)',\n",
      "       'No. of students\\rreceiving full\\rtuition fee\\rreimbursement\\rfrom the State\\rand Central\\rGovernment',\n",
      "       'No. of students\\rreceiving full\\rtuition fee\\rreimbursement\\rfrom Institution\\rFunds',\n",
      "       'No. of students\\rreceiving full\\rtuition fee\\rreimbursement\\rfrom the Private\\rBodies',\n",
      "       'No. of students\\rwho are not\\rreceiving full\\rtuition fee\\rreimbursement'],\n",
      "      dtype='object')\n",
      "Table 3: UG [4 Years Program(s)]: Placement & Higher Studies for previous 3 years\n",
      "Index(['Academic Year', 'No. of first year\\rstudents intake in the\\ryear',\n",
      "       'No. of first year\\rstudents admitted in\\rthe year', 'Academic Year.1',\n",
      "       'No. of students\\radmitted through\\rLateral entry', 'Academic Year.2',\n",
      "       'No. of students\\rgraduating in\\rminimum stipulated\\rtime',\n",
      "       'No. of students\\rplaced',\n",
      "       'Median salary of\\rplaced graduates per\\rannum(Amount in\\rRs.)',\n",
      "       'No. of students\\rselected for Higher\\rStudies'],\n",
      "      dtype='object')\n",
      "Table 4: UG [5 Years Program(s)]: Placement & Higher Studies for previous 3 years\n",
      "Index(['Academic Year', 'No. of first year\\rstudents intake in the\\ryear',\n",
      "       'No. of first year\\rstudents admitted in\\rthe year', 'Academic Year.1',\n",
      "       'No. of students\\radmitted through\\rLateral entry', 'Academic Year.2',\n",
      "       'No. of students\\rgraduating in\\rminimum stipulated\\rtime',\n",
      "       'No. of students\\rplaced',\n",
      "       'Median salary of\\rplaced graduates per\\rannum(Amount in\\rRs.)',\n",
      "       'No. of students\\rselected for Higher\\rStudies'],\n",
      "      dtype='object')\n",
      "Table 5: PG [2 Years Program(s)]: Placement & Higher Studies for previous 3 years\n",
      "Index(['Academic Year', 'No. of first year\\rstudents intake in the\\ryear',\n",
      "       'No. of first year\\rstudents admitted in\\rthe year', 'Academic Year.1',\n",
      "       'No. of students graduating in minimum\\rstipulated time',\n",
      "       'No. of students\\rplaced',\n",
      "       'Median salary of\\rplaced graduates per\\rannum(Amount in\\rRs.)',\n",
      "       'No. of students\\rselected for Higher\\rStudies'],\n",
      "      dtype='object')\n",
      "Table 6: PG [3 Years Program(s)]: Placement & Higher Studies for previous 3 years\n",
      "Index(['Academic Year', 'No. of first year\\rstudents intake in the\\ryear',\n",
      "       'No. of first year\\rstudents admitted in\\rthe year', 'Academic Year.1',\n",
      "       'No. of students\\radmitted through\\rLateral entry', 'Academic Year.2',\n",
      "       'No. of students\\rgraduating in\\rminimum stipulated\\rtime',\n",
      "       'No. of students\\rplaced',\n",
      "       'Median salary of\\rplaced graduates per\\rannum(Amount in\\rRs.)',\n",
      "       'No. of students\\rselected for Higher\\rStudies'],\n",
      "      dtype='object')\n",
      "Table 7: Ph.D Student Details\n",
      "Index(['Ph.D (Student pursuing doctoral program till 2021-22)', 'Unnamed: 0',\n",
      "       'Unnamed: 1', 'Unnamed: 2'],\n",
      "      dtype='object')\n",
      "Table 8: Financial Resources: Utilised Amount for the Capital Expenditure for previous 3 years\n",
      "Index(['Financial Year', '2021-22', '2020-21', '2019-20'], dtype='object')\n",
      "Table 9: Financial Resources: Utilised Amount for the Operational Expenditure for previous 3 years\n",
      "Index(['Financial Year', '2021-22', '2020-21', '2019-20'], dtype='object')\n",
      "Table 10: Sponsored Research Details\n",
      "Index(['Financial Year', '2021-22', '2020-21', '2019-20'], dtype='object')\n",
      "Table 11: Consultancy Project Details\n",
      "Index(['Financial Year', '2021-22', '2020-21', '2019-20'], dtype='object')\n",
      "Table 12: PCS Facilities: Facilities of Physically Challenged Students\n",
      "Index(['1. Do your institution buildings have Lifts/Ramps?', 'Yes, more than 80% of the buildings'], dtype='object')\n",
      "Table 13: Faculty Details\n",
      "Index(['Number of faculty members entered', '684'], dtype='object')\n"
     ]
    }
   ],
   "source": [
    "# meta_df = pd.DataFrame()\n",
    "for i, df in enumerate(df_list):\n",
    "    # print('{}:{}'.format(i, table_title_list[i]))\n",
    "    df_list[i].Name = table_title_list[i]\n",
    "    print(f'Table {i+1}: {df_list[i].Name}')\n",
    "    print(df_list[i].columns)\n"
   ]
  }
 ],
 "metadata": {
  "kernelspec": {
   "display_name": "pdf_nlp_env",
   "language": "python",
   "name": "python3"
  },
  "language_info": {
   "codemirror_mode": {
    "name": "ipython",
    "version": 3
   },
   "file_extension": ".py",
   "mimetype": "text/x-python",
   "name": "python",
   "nbconvert_exporter": "python",
   "pygments_lexer": "ipython3",
   "version": "3.7.16"
  }
 },
 "nbformat": 4,
 "nbformat_minor": 2
}
