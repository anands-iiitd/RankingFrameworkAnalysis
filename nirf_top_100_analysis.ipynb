{
 "cells": [
  {
   "cell_type": "code",
   "execution_count": 2,
   "metadata": {},
   "outputs": [],
   "source": [
    "import pandas as pd\n",
    "import os"
   ]
  },
  {
   "cell_type": "code",
   "execution_count": 14,
   "metadata": {},
   "outputs": [
    {
     "name": "stdout",
     "output_type": "stream",
     "text": [
      "No. of csv files for NIRF ranking: 6\n",
      "Processing file: 0 called nirf_top100_2019.csv\n",
      "Processing file: 1 called nirf_top100_2020.csv\n",
      "Processing file: 2 called nirf_top100_2021.csv\n",
      "Processing file: 3 called nirf_top100_2022.csv\n",
      "Processing file: 4 called nirf_top100_2023.csv\n",
      "Processing file: 5 called nirf_top100_2024.csv\n",
      "No. of dataframes read: 6\n"
     ]
    },
    {
     "name": "stderr",
     "output_type": "stream",
     "text": [
      "c:\\Users\\saket\\miniconda3\\envs\\pdf_nlp_env\\lib\\site-packages\\ipykernel_launcher.py:11: UserWarning: Pandas doesn't allow columns to be created via a new attribute name - see https://pandas.pydata.org/pandas-docs/stable/indexing.html#attribute-access\n",
      "  # This is added back by InteractiveShellApp.init_path()\n"
     ]
    }
   ],
   "source": [
    "csv_file_path = '../nirf_csv_top100'\n",
    "csv_list = os.listdir(csv_file_path)\n",
    "\n",
    "print(f'No. of csv files for NIRF ranking: {len(csv_list)}')\n",
    "\n",
    "df_list = list()\n",
    "\n",
    "for i, csv_fn in enumerate(csv_list):\n",
    "    print(f'Processing file: {i} called {csv_fn}')\n",
    "    df = pd.read_csv(os.path.join(csv_file_path,csv_fn))\n",
    "    df.metadata = {\"csv_filename\": csv_fn}\n",
    "    df_list.append(df)\n",
    "\n",
    "print(f'No. of dataframes read: {len(df_list)}')"
   ]
  },
  {
   "cell_type": "code",
   "execution_count": 18,
   "metadata": {},
   "outputs": [
    {
     "data": {
      "text/plain": [
       "Index(['Institute ID', 'Name', 'TLR(100)', 'RPC(100)', 'GO(100)', 'OI(100)',\n",
       "       'PERCEPTION(100)', 'City', 'State', 'Score', 'Rank', 'Link to PDF',\n",
       "       'Link to Graph'],\n",
       "      dtype='object')"
      ]
     },
     "execution_count": 18,
     "metadata": {},
     "output_type": "execute_result"
    }
   ],
   "source": [
    "df_list[0].columns"
   ]
  }
 ],
 "metadata": {
  "kernelspec": {
   "display_name": "pdf_nlp_env",
   "language": "python",
   "name": "python3"
  },
  "language_info": {
   "codemirror_mode": {
    "name": "ipython",
    "version": 3
   },
   "file_extension": ".py",
   "mimetype": "text/x-python",
   "name": "python",
   "nbconvert_exporter": "python",
   "pygments_lexer": "ipython3",
   "version": "3.7.16"
  }
 },
 "nbformat": 4,
 "nbformat_minor": 2
}
